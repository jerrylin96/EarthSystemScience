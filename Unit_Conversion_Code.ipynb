{
 "cells": [
  {
   "cell_type": "code",
   "execution_count": 1,
   "metadata": {},
   "outputs": [],
   "source": [
    "# From Kilotons N2O to Tg N\n",
    "# 1 Kiloton = 1000 tons = 1000 * 907185 grams = 907185000 grams = 907185000 * 1/1000000000000 Tg\n",
    "# 1 Tg N2O => 1 Tg N2O * (28/44) => Tg N\n",
    "\n",
    "def ktn2oTgN(ktn2o):\n",
    "    return(ktn2o * 907185000 * 1/1000000000000 * (28/44))"
   ]
  },
  {
   "cell_type": "code",
   "execution_count": 2,
   "metadata": {},
   "outputs": [],
   "source": [
    "# From Tg N to KilotonsN2O\n",
    "\n",
    "def TgNktn2o(TgN):\n",
    "    return(TgN * 1/(907185000 * 1/1000000000000 * (28/44)))"
   ]
  },
  {
   "cell_type": "code",
   "execution_count": 3,
   "metadata": {},
   "outputs": [],
   "source": [
    "# From n2o ppb to Tg N\n",
    "# 1 ppb N2O equals a mass of 4.97 Tg N in N2O\n",
    "# conversion factor is 4.97\n",
    "\n",
    "def ppbTgN(ppb):\n",
    "    return (4.97*ppb)"
   ]
  },
  {
   "cell_type": "code",
   "execution_count": 4,
   "metadata": {},
   "outputs": [],
   "source": [
    "# From Tg N to n2o ppb\n",
    "\n",
    "def TgNppb(TgN):\n",
    "    return (TgN/4.97)"
   ]
  },
  {
   "cell_type": "code",
   "execution_count": 5,
   "metadata": {},
   "outputs": [],
   "source": [
    "# From ktn2o to n2o ppb\n",
    "\n",
    "def ktn2oppb(ktn2o):\n",
    "    return (TgNppb(ktn2oTgN(ktn2o)))"
   ]
  },
  {
   "cell_type": "code",
   "execution_count": 6,
   "metadata": {},
   "outputs": [],
   "source": [
    "# From n2o ppb to ktn2o\n",
    "\n",
    "def ppbktn2o(ppb):\n",
    "    return (TgNktn2o(ppbTgN(ppb)))"
   ]
  },
  {
   "cell_type": "code",
   "execution_count": 7,
   "metadata": {},
   "outputs": [],
   "source": [
    "import scipy.integrate as integrate\n",
    "import math"
   ]
  },
  {
   "cell_type": "code",
   "execution_count": 8,
   "metadata": {},
   "outputs": [],
   "source": [
    "# This code calculates the surface area of a gridded cell of earth using latitude and longitude. \n",
    "# Assuming the Earth is a perfect sphere\n",
    "# Radius of earth is 6371 km\n",
    "# South is negative. North is positive.\n",
    "\n",
    "r = 6371\n",
    "def integrand(t):\n",
    "    return math.sin(t)\n",
    "\n",
    "def surfArea(lat1, lat2, lon1, lon2):\n",
    "    lat1 = lat1 + 90\n",
    "    lat2 = lat2 + 90\n",
    "    lat1 = min(lat1,lat2)*math.pi/180\n",
    "    lat2 = max(lat1, lat2)*math.pi/180\n",
    "    lons = (max(lon1, lon2) - min(lon1, lon2))*math.pi/180\n",
    "    a = integrate.quad(integrand, lat1, lat2)\n",
    "    #max error is 2nd arg for a\n",
    "    return lons*r*r*a[0]"
   ]
  }
 ],
 "metadata": {
  "kernelspec": {
   "display_name": "Python 3",
   "language": "python",
   "name": "python3"
  },
  "language_info": {
   "codemirror_mode": {
    "name": "ipython",
    "version": 3
   },
   "file_extension": ".py",
   "mimetype": "text/x-python",
   "name": "python",
   "nbconvert_exporter": "python",
   "pygments_lexer": "ipython3",
   "version": "3.9.0"
  }
 },
 "nbformat": 4,
 "nbformat_minor": 4
}
